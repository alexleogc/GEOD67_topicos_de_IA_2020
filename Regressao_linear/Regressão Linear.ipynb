{
 "cells": [
  {
   "cell_type": "code",
   "execution_count": 1,
   "metadata": {},
   "outputs": [],
   "source": [
    "import numpy as np\n",
    "import pandas as pd\n",
    "import matplotlib.pyplot as plt\n",
    "\n",
    "from Linear_Regression_Matrix import *"
   ]
  },
  {
   "cell_type": "markdown",
   "metadata": {},
   "source": [
    "### Criando um dataset sintético"
   ]
  },
  {
   "cell_type": "code",
   "execution_count": 2,
   "metadata": {},
   "outputs": [],
   "source": [
    "x1 = np.random.normal(scale=0.8,size=20)\n",
    "\n",
    "y = x1+np.random.normal(scale=0.4,size=20)"
   ]
  },
  {
   "cell_type": "markdown",
   "metadata": {},
   "source": [
    "### Avaliando relação entre a variável $x_1$ e $y$"
   ]
  },
  {
   "cell_type": "code",
   "execution_count": 3,
   "metadata": {},
   "outputs": [
    {
     "data": {
      "image/png": "[encoded data removed]",
      "text/plain": [
       "<Figure size 432x288 with 1 Axes>"
      ]
     },
     "metadata": {
      "needs_background": "light"
     },
     "output_type": "display_data"
    }
   ],
   "source": [
    "fig, axes = plt.subplots()\n",
    "\n",
    "axes.scatter(x1,y)\n",
    "\n",
    "fig.tight_layout()"
   ]
  },
  {
   "cell_type": "code",
   "execution_count": 4,
   "metadata": {},
   "outputs": [
    {
     "data": {
      "text/plain": [
       "array([[1.        , 0.88131339],\n",
       "       [0.88131339, 1.        ]])"
      ]
     },
     "execution_count": 4,
     "metadata": {},
     "output_type": "execute_result"
    }
   ],
   "source": [
    "np.corrcoef(x1,y)"
   ]
  },
  {
   "cell_type": "markdown",
   "metadata": {},
   "source": [
    "## Regressão Univariada utilizando a matriz pseudo-inversa\n",
    "\n",
    "$$ \\mathbf{w = (X^tX)^{-1}X^ty} $$"
   ]
  },
  {
   "cell_type": "markdown",
   "metadata": {},
   "source": [
    "#### Adicionando vetor unitário ao dataset"
   ]
  },
  {
   "cell_type": "code",
   "execution_count": 5,
   "metadata": {},
   "outputs": [
    {
     "data": {
      "text/plain": [
       "array([[ 1.        , -0.0222012 ],\n",
       "       [ 1.        , -1.41921958],\n",
       "       [ 1.        , -0.75680402],\n",
       "       [ 1.        , -0.27853212],\n",
       "       [ 1.        ,  0.61110045],\n",
       "       [ 1.        ,  0.8607471 ],\n",
       "       [ 1.        , -0.44724898],\n",
       "       [ 1.        , -1.04267479],\n",
       "       [ 1.        , -0.21546986],\n",
       "       [ 1.        ,  0.62539277],\n",
       "       [ 1.        , -0.04688071],\n",
       "       [ 1.        ,  0.38904723],\n",
       "       [ 1.        , -0.63205713],\n",
       "       [ 1.        , -0.21181163],\n",
       "       [ 1.        ,  0.54816598],\n",
       "       [ 1.        , -0.46159211],\n",
       "       [ 1.        , -0.09044866],\n",
       "       [ 1.        , -0.42896418],\n",
       "       [ 1.        ,  0.51522055],\n",
       "       [ 1.        ,  1.11392956]])"
      ]
     },
     "execution_count": 5,
     "metadata": {},
     "output_type": "execute_result"
    }
   ],
   "source": [
    "X = np.stack((np.ones(len(x1)),x1),axis=0).T\n",
    "X"
   ]
  },
  {
   "cell_type": "code",
   "execution_count": 6,
   "metadata": {},
   "outputs": [
    {
     "data": {
      "text/plain": [
       "array([-0.16040087,  1.05659673])"
      ]
     },
     "execution_count": 6,
     "metadata": {},
     "output_type": "execute_result"
    }
   ],
   "source": [
    "coef = fit_linear_regression(X,y)\n",
    "coef"
   ]
  },
  {
   "cell_type": "code",
   "execution_count": 7,
   "metadata": {},
   "outputs": [
    {
     "data": {
      "text/plain": [
       "array([-0.16040087,  1.05659673])"
      ]
     },
     "execution_count": 7,
     "metadata": {},
     "output_type": "execute_result"
    }
   ],
   "source": [
    "coef"
   ]
  },
  {
   "cell_type": "code",
   "execution_count": 8,
   "metadata": {},
   "outputs": [
    {
     "data": {
      "text/plain": [
       "array([-0.18385859, -1.65994365, -0.96003753, -0.454697  ,  0.48528587,\n",
       "        0.7490617 , -0.63296268, -1.26208765, -0.38806563,  0.50038708,\n",
       "       -0.20993488,  0.25066516, -0.82823037, -0.38420035,  0.41878951,\n",
       "       -0.64811759, -0.25596862, -0.61364302,  0.38397948,  1.01657347])"
      ]
     },
     "execution_count": 8,
     "metadata": {},
     "output_type": "execute_result"
    }
   ],
   "source": [
    "y_predict = predict_linear_regression(coef,X)\n",
    "y_predict"
   ]
  },
  {
   "cell_type": "code",
   "execution_count": 9,
   "metadata": {},
   "outputs": [
    {
     "data": {
      "image/png": "[encoded data removed]",
      "text/plain": [
       "<Figure size 576x432 with 1 Axes>"
      ]
     },
     "metadata": {},
     "output_type": "display_data"
    }
   ],
   "source": [
    "fig, axes = plt.subplots(figsize=(8,6))\n",
    "\n",
    "axes.scatter(x1,y,edgecolor='black',label='y$_{obs}$')\n",
    "axes.plot(x1,y_predict,color='black',label='y$_{predict}$')\n",
    "axes.legend(fontsize=16)\n",
    "\n",
    "for i,j,z in zip(x1,y,y_predict):\n",
    "    axes.plot([x1,x1],[y,y_predict],color='blue',ls='--')\n",
    "\n",
    "axes.set_xticks([])\n",
    "axes.set_yticks([])\n",
    "\n",
    "fig.tight_layout()\n",
    "\n",
    "#fig.savefig('MMQ_ex1.png',dpi=300)"
   ]
  },
  {
   "cell_type": "markdown",
   "metadata": {},
   "source": [
    "#### Estimando erro entre o treino e o predito"
   ]
  },
  {
   "cell_type": "code",
   "execution_count": 10,
   "metadata": {},
   "outputs": [],
   "source": [
    "from sklearn.metrics import mean_squared_error"
   ]
  },
  {
   "cell_type": "code",
   "execution_count": 11,
   "metadata": {},
   "outputs": [
    {
     "data": {
      "text/plain": [
       "0.13186347442338295"
      ]
     },
     "execution_count": 11,
     "metadata": {},
     "output_type": "execute_result"
    }
   ],
   "source": [
    "mean_squared_error(y,y_predict)"
   ]
  },
  {
   "cell_type": "code",
   "execution_count": 12,
   "metadata": {},
   "outputs": [
    {
     "data": {
      "text/plain": [
       "2"
      ]
     },
     "execution_count": 12,
     "metadata": {},
     "output_type": "execute_result"
    }
   ],
   "source": [
    "np.matmul(X.T,X).shape[0]"
   ]
  },
  {
   "cell_type": "markdown",
   "metadata": {},
   "source": [
    "### Adicionando o parâmetro de regularização alpha\n",
    "\n",
    "$$ \\mathbf{w = (X^tX} -\\alpha \\mathbf{I )^{-1}X^ty} $$"
   ]
  },
  {
   "cell_type": "code",
   "execution_count": 13,
   "metadata": {},
   "outputs": [],
   "source": [
    "coef_ridge = fit_linear_regression_ridge(X,y,alpha=1)"
   ]
  },
  {
   "cell_type": "code",
   "execution_count": 14,
   "metadata": {},
   "outputs": [],
   "source": [
    "y_pred_ridge = predict_linear_regression(coef_ridge,X)"
   ]
  },
  {
   "cell_type": "code",
   "execution_count": 15,
   "metadata": {},
   "outputs": [
    {
     "data": {
      "text/plain": [
       "0.1372133498784148"
      ]
     },
     "execution_count": 15,
     "metadata": {},
     "output_type": "execute_result"
    }
   ],
   "source": [
    "mean_squared_error(y,y_pred_ridge)"
   ]
  },
  {
   "cell_type": "code",
   "execution_count": 16,
   "metadata": {},
   "outputs": [
    {
     "data": {
      "image/png": "[encoded data removed]",
      "text/plain": [
       "<Figure size 576x432 with 1 Axes>"
      ]
     },
     "metadata": {},
     "output_type": "display_data"
    }
   ],
   "source": [
    "fig, axes = plt.subplots(figsize=(8,6))\n",
    "\n",
    "axes.scatter(x1,y,edgecolor='black',label='y$_{obs}$')\n",
    "axes.plot(x1,y_predict,color='black',label='y$_{predict}$')\n",
    "axes.plot(x1,y_pred_ridge,color='red',label='y$_{predict-ridge}$')\n",
    "axes.legend(fontsize=16)\n",
    "\n",
    "#for i,j,z in zip(x1,y,y_predict):\n",
    "#    axes.plot([x1,x1],[y,y_predict],color='blue',ls='--')\n",
    "\n",
    "axes.set_xticks([])\n",
    "axes.set_yticks([])\n",
    "\n",
    "fig.tight_layout()\n",
    "\n",
    "#fig.savefig('MMQ_ex1.png',dpi=300)"
   ]
  }
 ],
 "metadata": {
  "kernelspec": {
   "display_name": "Python 3",
   "language": "python",
   "name": "python3"
  },
  "language_info": {
   "codemirror_mode": {
    "name": "ipython",
    "version": 3
   },
   "file_extension": ".py",
   "mimetype": "text/x-python",
   "name": "python",
   "nbconvert_exporter": "python",
   "pygments_lexer": "ipython3",
   "version": "3.7.6"
  }
 },
 "nbformat": 4,
 "nbformat_minor": 4
}
