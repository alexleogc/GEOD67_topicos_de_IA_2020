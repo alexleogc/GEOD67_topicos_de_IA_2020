{
 "cells": [
  {
   "cell_type": "code",
   "execution_count": 34,
   "metadata": {},
   "outputs": [],
   "source": [
    "import numpy as np\n",
    "import pandas as pd\n",
    "import matplotlib.pyplot as plt\n",
    "import seaborn as sns"
   ]
  },
  {
   "cell_type": "markdown",
   "metadata": {},
   "source": [
    "### Gerando três distribuições"
   ]
  },
  {
   "cell_type": "code",
   "execution_count": 2,
   "metadata": {},
   "outputs": [],
   "source": [
    "x1 = np.random.normal(size=200)\n",
    "x2 = np.random.normal(scale=2,size=200)\n",
    "x3 = np.random.uniform(size=200)\n",
    "x4 = np.random.lognormal(size=200)"
   ]
  },
  {
   "cell_type": "code",
   "execution_count": 8,
   "metadata": {},
   "outputs": [
    {
     "name": "stderr",
     "output_type": "stream",
     "text": [
      "/home/alexsandro/anaconda3/lib/python3.7/site-packages/ipykernel_launcher.py:11: UserWarning: Matplotlib is currently using module://ipykernel.pylab.backend_inline, which is a non-GUI backend, so cannot show the figure.\n",
      "  # This is added back by InteractiveShellApp.init_path()\n"
     ]
    },
    {
     "data": {
      "image/png": "[encoded data removed]",
      "text/plain": [
       "<Figure size 1296x288 with 4 Axes>"
      ]
     },
     "metadata": {
      "needs_background": "light"
     },
     "output_type": "display_data"
    }
   ],
   "source": [
    "fig, axes = plt.subplots(ncols=4,figsize=(18,4))\n",
    "\n",
    "for ax,label in zip(axes,['x1','x2','x3','x4']):\n",
    "    ax.set_xlabel(label,fontsize=14)\n",
    "\n",
    "axes[0].hist(x1,bins=15,edgecolor='black')\n",
    "axes[1].hist(x2,bins=15,edgecolor='black')\n",
    "axes[2].hist(x3,bins=15,edgecolor='black')\n",
    "axes[3].hist(x4,bins=15,edgecolor='black')\n",
    "\n",
    "fig.show()"
   ]
  },
  {
   "cell_type": "markdown",
   "metadata": {},
   "source": [
    "## Medidas de localização\n",
    "\n",
    "### <center> Média </center>\n",
    "\n",
    "$$\\overline{x} = \\frac{1}{n}\\sum_{i=1}^{n}x_i$$"
   ]
  },
  {
   "cell_type": "code",
   "execution_count": 4,
   "metadata": {},
   "outputs": [
    {
     "data": {
      "text/plain": [
       "(4, 200)"
      ]
     },
     "execution_count": 4,
     "metadata": {},
     "output_type": "execute_result"
    }
   ],
   "source": [
    "#Passando as variáveis para um array (matriz)\n",
    "X = np.asarray([x1,x2,x3,x4])\n",
    "X.shape"
   ]
  },
  {
   "cell_type": "code",
   "execution_count": 5,
   "metadata": {},
   "outputs": [
    {
     "name": "stdout",
     "output_type": "stream",
     "text": [
      "Valor médio de x1=0.005429492017345974\n"
     ]
    }
   ],
   "source": [
    "#Calculando a média de x1\n",
    "print(f'Valor médio de x1={np.mean(x1)}')"
   ]
  },
  {
   "cell_type": "code",
   "execution_count": 6,
   "metadata": {},
   "outputs": [
    {
     "data": {
      "text/plain": [
       "array([ 0.00542949, -0.06603507,  0.47865769,  1.8331563 ])"
      ]
     },
     "execution_count": 6,
     "metadata": {},
     "output_type": "execute_result"
    }
   ],
   "source": [
    "np.mean(X,axis=1)"
   ]
  },
  {
   "cell_type": "code",
   "execution_count": 26,
   "metadata": {},
   "outputs": [
    {
     "name": "stdout",
     "output_type": "stream",
     "text": [
      "        x1         x2         x3         x4\n",
      "[ 0.00542949 -0.06603507  0.47865769  1.8331563 ]\n"
     ]
    }
   ],
   "source": [
    "#Ou utilizar a matriz X para computar a média de todas as variáveis\n",
    "print(' '*8+'x1'+' '*9+'x2'+' '*9+'x3'+' '*9+'x4')\n",
    "print(np.mean(X,axis=1))"
   ]
  },
  {
   "cell_type": "markdown",
   "metadata": {},
   "source": [
    "---"
   ]
  },
  {
   "cell_type": "markdown",
   "metadata": {},
   "source": [
    "### <center> Mediana </center>\n",
    "\n",
    "$$mediana(\\mathbf{x})=\\left\\{\\begin{matrix}\n",
    "\\frac{1}{2} (x_{\\frac{1}{2}}+x_{\\frac{1}{2}+1}) \\; \\; \\text{Se n for par}\\\\ \n",
    "\\; \\; \\; \\; \\; \\; \\;  x_{\\frac{1}{2}+1}   \\; \\; \\; \\; \\; \\; \\; \\; \\; \\; \\;  \\text{Se n for impar}\n",
    "\\end{matrix}\\right. $$"
   ]
  },
  {
   "cell_type": "code",
   "execution_count": 11,
   "metadata": {},
   "outputs": [
    {
     "data": {
      "text/plain": [
       "array([2, 1, 3, 5, 2, 1, 3, 4])"
      ]
     },
     "execution_count": 11,
     "metadata": {},
     "output_type": "execute_result"
    }
   ],
   "source": [
    "#Ex1: [2,1,3,5,2,1,3,4]\n",
    "l = np.asarray([2,1,3,5,2,1,3,4])\n",
    "l"
   ]
  },
  {
   "cell_type": "code",
   "execution_count": 13,
   "metadata": {},
   "outputs": [
    {
     "data": {
      "text/plain": [
       "array([1, 1, 2, 2, 3, 3, 4, 5])"
      ]
     },
     "execution_count": 13,
     "metadata": {},
     "output_type": "execute_result"
    }
   ],
   "source": [
    "l.sort()\n",
    "l"
   ]
  },
  {
   "cell_type": "code",
   "execution_count": 15,
   "metadata": {},
   "outputs": [
    {
     "data": {
      "text/plain": [
       "8"
      ]
     },
     "execution_count": 15,
     "metadata": {},
     "output_type": "execute_result"
    }
   ],
   "source": [
    "len(l) #O número de itens na lista é par"
   ]
  },
  {
   "cell_type": "code",
   "execution_count": 21,
   "metadata": {},
   "outputs": [
    {
     "data": {
      "text/plain": [
       "2.5"
      ]
     },
     "execution_count": 21,
     "metadata": {},
     "output_type": "execute_result"
    }
   ],
   "source": [
    "(l[int(len(l)/2)-1]+l[int(len(l)/2)])/2"
   ]
  },
  {
   "cell_type": "code",
   "execution_count": 22,
   "metadata": {},
   "outputs": [
    {
     "data": {
      "text/plain": [
       "2.5"
      ]
     },
     "execution_count": 22,
     "metadata": {},
     "output_type": "execute_result"
    }
   ],
   "source": [
    "np.median(l)"
   ]
  },
  {
   "cell_type": "code",
   "execution_count": 23,
   "metadata": {},
   "outputs": [
    {
     "data": {
      "text/plain": [
       "array([ 0.09156093, -0.09554201,  0.49660702,  1.0952562 ])"
      ]
     },
     "execution_count": 23,
     "metadata": {},
     "output_type": "execute_result"
    }
   ],
   "source": [
    "# Calculando as medianas das variáveis x1, x2, x3 e x4\n",
    "np.median(X,axis=1)"
   ]
  },
  {
   "cell_type": "markdown",
   "metadata": {},
   "source": [
    "### <center> Quartil e percentis </center>\n",
    "\n",
    "Os <b>quartis</b> são obtidos depois de ordenar o vetor em ordem crescente. São os três valores ordenados que dividem o dado em quatro partes iguais.\n",
    "\n",
    " <ul>\n",
    "  <li>Primeiro quartil ($q_{1/4}$) - é o valor referente a última amostra ordenada nos primeiros 25% do dado (25º quartil)</li>\n",
    "  <li>Segundo quartil ($q_{2/4}$) - é o valor referente a última amostra ordenada nos primeiros 50% do dado, ou a mediana (50º quartil)</li>\n",
    "  <li>Terceiro quartil ($q_{3/4}$) - é o valor referente a última amostra ordenada nos primeiros 75% do dado</li>\n",
    "  <li>Quarto quartil ($q_{4/4}$) - é o valor referente a última amostra ordenada nos primeiros 100% do dado</li>\n",
    "</ul> \n",
    "\n",
    "<b>Percentis</b> são semelhantes ao quartis, porém neste caso divide-se o vetor ordenado em 100 partes."
   ]
  },
  {
   "cell_type": "code",
   "execution_count": 28,
   "metadata": {},
   "outputs": [
    {
     "data": {
      "image/png": "[encoded data removed]",
      "text/plain": [
       "<Figure size 432x288 with 1 Axes>"
      ]
     },
     "metadata": {
      "needs_background": "light"
     },
     "output_type": "display_data"
    }
   ],
   "source": [
    "plt.hist(x1,bins=15,edgecolor='black')\n",
    "\n",
    "plt.show()"
   ]
  },
  {
   "cell_type": "code",
   "execution_count": 52,
   "metadata": {},
   "outputs": [
    {
     "data": {
      "text/plain": [
       "-0.7080687434934523"
      ]
     },
     "execution_count": 52,
     "metadata": {},
     "output_type": "execute_result"
    }
   ],
   "source": [
    "#Obtendo quartil 25º\n",
    "np.quantile(x1,q=0.25)"
   ]
  },
  {
   "cell_type": "code",
   "execution_count": 47,
   "metadata": {},
   "outputs": [
    {
     "name": "stdout",
     "output_type": "stream",
     "text": [
      "Quartil 0:  -2.35648397499394\n",
      "Quartil 25:  -0.7080687434934523\n",
      "Quartil 50:  0.09156092635598351\n",
      "Quartil 75:  0.721164128459568\n",
      "Quartil 100:  2.7820472147502837\n"
     ]
    }
   ],
   "source": [
    "for i in np.arange(0.0,1.25,0.25):\n",
    "    print(f'Quartil {int(i*100)}:  {np.quantile(x1,q=i)}')"
   ]
  },
  {
   "cell_type": "code",
   "execution_count": 51,
   "metadata": {},
   "outputs": [
    {
     "name": "stdout",
     "output_type": "stream",
     "text": [
      "Percentil 10:  -1.3586652733334932\n",
      "Percentil 20:  -0.8721723682160897\n",
      "Percentil 30:  -0.4674859812759983\n",
      "Percentil 40:  -0.20731927034220118\n",
      "Percentil 50:  0.09156092635598351\n",
      "Percentil 60:  0.27423657792958284\n",
      "Percentil 70:  0.5936442306566658\n",
      "Percentil 80:  0.817172527812424\n",
      "Percentil 90:  1.224321261564985\n",
      "Percentil 100:  2.7820472147502837\n"
     ]
    }
   ],
   "source": [
    "#printando o percentis 10º, 20º, 30º, ..., 100º\n",
    "for i in range(10,110,10):\n",
    "    print(f'Percentil {i}:  {np.percentile(x1,q=i)}')"
   ]
  },
  {
   "cell_type": "markdown",
   "metadata": {},
   "source": [
    "### <center> Boxplot </center>"
   ]
  },
  {
   "cell_type": "code",
   "execution_count": 61,
   "metadata": {},
   "outputs": [
    {
     "data": {
      "text/plain": [
       "<matplotlib.axes._subplots.AxesSubplot at 0x7fc5ccc033d0>"
      ]
     },
     "execution_count": 61,
     "metadata": {},
     "output_type": "execute_result"
    },
    {
     "data": {
      "image/png": "[encoded data removed]",
      "text/plain": [
       "<Figure size 864x432 with 4 Axes>"
      ]
     },
     "metadata": {
      "needs_background": "light"
     },
     "output_type": "display_data"
    }
   ],
   "source": [
    "fig, axes = plt.subplots(nrows=2,ncols=2,figsize=(12,6))\n",
    "\n",
    "axes[0][0].hist(x1,bins=15,edgecolor='black')\n",
    "\n",
    "axes[0][1].hist(x4,bins=15,edgecolor='black')\n",
    "\n",
    "sns.boxplot(x1,ax=axes[1][0])\n",
    "\n",
    "sns.boxplot(x4,ax=axes[1][1])"
   ]
  },
  {
   "cell_type": "code",
   "execution_count": 53,
   "metadata": {},
   "outputs": [
    {
     "data": {
      "text/plain": [
       "<matplotlib.axes._subplots.AxesSubplot at 0x7fc5cd886590>"
      ]
     },
     "execution_count": 53,
     "metadata": {},
     "output_type": "execute_result"
    },
    {
     "data": {
      "image/png": "[encoded data removed]",
      "text/plain": [
       "<Figure size 432x288 with 1 Axes>"
      ]
     },
     "metadata": {
      "needs_background": "light"
     },
     "output_type": "display_data"
    }
   ],
   "source": [
    "sns.boxplot(x1)"
   ]
  }
 ],
 "metadata": {
  "kernelspec": {
   "display_name": "Python 3",
   "language": "python",
   "name": "python3"
  },
  "language_info": {
   "codemirror_mode": {
    "name": "ipython",
    "version": 3
   },
   "file_extension": ".py",
   "mimetype": "text/x-python",
   "name": "python",
   "nbconvert_exporter": "python",
   "pygments_lexer": "ipython3",
   "version": "3.7.6"
  }
 },
 "nbformat": 4,
 "nbformat_minor": 4
}
