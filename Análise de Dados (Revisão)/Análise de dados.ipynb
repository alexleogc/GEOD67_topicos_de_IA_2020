{
 "cells": [
  {
   "cell_type": "code",
   "execution_count": 1,
   "metadata": {},
   "outputs": [],
   "source": [
    "import numpy as np\n",
    "import pandas as pd\n",
    "import matplotlib.pyplot as plt\n",
    "import seaborn as sns"
   ]
  },
  {
   "cell_type": "markdown",
   "metadata": {},
   "source": [
    "### Gerando três distribuições"
   ]
  },
  {
   "cell_type": "code",
   "execution_count": 2,
   "metadata": {},
   "outputs": [],
   "source": [
    "x1 = np.random.normal(size=250)\n",
    "x2 = np.random.normal(scale=2,size=250)\n",
    "x3 = np.random.uniform(size=250,low=-2,high=2)\n",
    "x4 = np.random.lognormal(sigma=0.8,size=250)"
   ]
  },
  {
   "cell_type": "code",
   "execution_count": 3,
   "metadata": {},
   "outputs": [
    {
     "name": "stderr",
     "output_type": "stream",
     "text": [
      "/home/alexsandro/anaconda3/lib/python3.7/site-packages/ipykernel_launcher.py:11: UserWarning: Matplotlib is currently using module://ipykernel.pylab.backend_inline, which is a non-GUI backend, so cannot show the figure.\n",
      "  # This is added back by InteractiveShellApp.init_path()\n"
     ]
    },
    {
     "data": {
      "image/png": "[encoded data removed]",
      "text/plain": [
       "<Figure size 1296x288 with 4 Axes>"
      ]
     },
     "metadata": {
      "needs_background": "light"
     },
     "output_type": "display_data"
    }
   ],
   "source": [
    "fig, axes = plt.subplots(ncols=4,figsize=(18,4))\n",
    "\n",
    "for ax,label in zip(axes,['x1','x2','x3','x4']):\n",
    "    ax.set_xlabel(label,fontsize=14)\n",
    "\n",
    "axes[0].hist(x1,bins=15,edgecolor='black')\n",
    "axes[1].hist(x2,bins=15,edgecolor='black')\n",
    "axes[2].hist(x3,bins=15,edgecolor='black')\n",
    "axes[3].hist(x4,bins=15,edgecolor='black')\n",
    "\n",
    "fig.show()"
   ]
  },
  {
   "cell_type": "markdown",
   "metadata": {},
   "source": [
    "## Medidas de localização\n",
    "\n",
    "### <center> Média </center>\n",
    "\n",
    "$$\\overline{x} = \\frac{1}{n}\\sum_{i=1}^{n}x_i$$"
   ]
  },
  {
   "cell_type": "code",
   "execution_count": 4,
   "metadata": {},
   "outputs": [
    {
     "data": {
      "text/plain": [
       "(4, 250)"
      ]
     },
     "execution_count": 4,
     "metadata": {},
     "output_type": "execute_result"
    }
   ],
   "source": [
    "#Passando as variáveis para um array (matriz)\n",
    "X = np.asarray([x1,x2,x3,x4])\n",
    "X.shape"
   ]
  },
  {
   "cell_type": "code",
   "execution_count": 5,
   "metadata": {},
   "outputs": [
    {
     "name": "stdout",
     "output_type": "stream",
     "text": [
      "Valor médio de x1=-0.029493967853620105\n"
     ]
    }
   ],
   "source": [
    "#Calculando a média de x1\n",
    "print(f'Valor médio de x1={np.mean(x1)}')"
   ]
  },
  {
   "cell_type": "code",
   "execution_count": 6,
   "metadata": {},
   "outputs": [
    {
     "data": {
      "text/plain": [
       "array([-0.02949397, -0.10753624, -0.07834936,  1.43388735])"
      ]
     },
     "execution_count": 6,
     "metadata": {},
     "output_type": "execute_result"
    }
   ],
   "source": [
    "np.mean(X,axis=1)"
   ]
  },
  {
   "cell_type": "code",
   "execution_count": 7,
   "metadata": {},
   "outputs": [
    {
     "name": "stdout",
     "output_type": "stream",
     "text": [
      "        x1         x2         x3         x4\n",
      "[-0.02949397 -0.10753624 -0.07834936  1.43388735]\n"
     ]
    }
   ],
   "source": [
    "#Ou utilizar a matriz X para computar a média de todas as variáveis\n",
    "print(' '*8+'x1'+' '*9+'x2'+' '*9+'x3'+' '*9+'x4')\n",
    "print(np.mean(X,axis=1))"
   ]
  },
  {
   "cell_type": "markdown",
   "metadata": {},
   "source": [
    "---"
   ]
  },
  {
   "cell_type": "markdown",
   "metadata": {},
   "source": [
    "### <center> Mediana </center>\n",
    "\n",
    "$$mediana(\\mathbf{x})=\\left\\{\\begin{matrix}\n",
    "\\frac{1}{2} (x_{\\frac{1}{2}}+x_{\\frac{1}{2}+1}) \\; \\; \\text{Se n for par}\\\\ \n",
    "\\; \\; \\; \\; \\; \\; \\;  x_{\\frac{1}{2}+1}   \\; \\; \\; \\; \\; \\; \\; \\; \\; \\; \\;  \\text{Se n for impar}\n",
    "\\end{matrix}\\right. $$"
   ]
  },
  {
   "cell_type": "code",
   "execution_count": 8,
   "metadata": {},
   "outputs": [
    {
     "data": {
      "text/plain": [
       "array([2, 1, 3, 5, 2, 1, 3, 4])"
      ]
     },
     "execution_count": 8,
     "metadata": {},
     "output_type": "execute_result"
    }
   ],
   "source": [
    "#Ex1: [2,1,3,5,2,1,3,4]\n",
    "l = np.asarray([2,1,3,5,2,1,3,4])\n",
    "l"
   ]
  },
  {
   "cell_type": "code",
   "execution_count": 9,
   "metadata": {},
   "outputs": [
    {
     "data": {
      "text/plain": [
       "array([1, 1, 2, 2, 3, 3, 4, 5])"
      ]
     },
     "execution_count": 9,
     "metadata": {},
     "output_type": "execute_result"
    }
   ],
   "source": [
    "l.sort()\n",
    "l"
   ]
  },
  {
   "cell_type": "code",
   "execution_count": 10,
   "metadata": {},
   "outputs": [
    {
     "data": {
      "text/plain": [
       "8"
      ]
     },
     "execution_count": 10,
     "metadata": {},
     "output_type": "execute_result"
    }
   ],
   "source": [
    "len(l) #O número de itens na lista é par"
   ]
  },
  {
   "cell_type": "code",
   "execution_count": 11,
   "metadata": {},
   "outputs": [
    {
     "data": {
      "text/plain": [
       "2.5"
      ]
     },
     "execution_count": 11,
     "metadata": {},
     "output_type": "execute_result"
    }
   ],
   "source": [
    "(l[int(len(l)/2)-1]+l[int(len(l)/2)])/2"
   ]
  },
  {
   "cell_type": "code",
   "execution_count": 12,
   "metadata": {},
   "outputs": [
    {
     "data": {
      "text/plain": [
       "2.5"
      ]
     },
     "execution_count": 12,
     "metadata": {},
     "output_type": "execute_result"
    }
   ],
   "source": [
    "np.median(l)"
   ]
  },
  {
   "cell_type": "code",
   "execution_count": 13,
   "metadata": {},
   "outputs": [
    {
     "data": {
      "text/plain": [
       "array([-0.05563442, -0.19183677, -0.07306348,  1.04455833])"
      ]
     },
     "execution_count": 13,
     "metadata": {},
     "output_type": "execute_result"
    }
   ],
   "source": [
    "# Calculando as medianas das variáveis x1, x2, x3 e x4\n",
    "np.median(X,axis=1)"
   ]
  },
  {
   "cell_type": "markdown",
   "metadata": {},
   "source": [
    "### <center> Quartil e percentis </center>\n",
    "\n",
    "Os <b>quartis</b> são obtidos depois de ordenar o vetor em ordem crescente. São os três valores ordenados que dividem o dado em quatro partes iguais.\n",
    "\n",
    " <ul>\n",
    "  <li>Primeiro quartil ($q_{1/4}$) - é o valor referente a última amostra ordenada nos primeiros 25% do dado (25º quartil)</li>\n",
    "  <li>Segundo quartil ($q_{2/4}$) - é o valor referente a última amostra ordenada nos primeiros 50% do dado, ou a mediana (50º quartil)</li>\n",
    "  <li>Terceiro quartil ($q_{3/4}$) - é o valor referente a última amostra ordenada nos primeiros 75% do dado</li>\n",
    "  <li>Quarto quartil ($q_{4/4}$) - é o valor referente a última amostra ordenada nos primeiros 100% do dado</li>\n",
    "</ul> \n",
    "\n",
    "<b>Percentis</b> são semelhantes ao quartis, porém neste caso divide-se o vetor ordenado em 100 partes."
   ]
  },
  {
   "cell_type": "code",
   "execution_count": 14,
   "metadata": {},
   "outputs": [
    {
     "data": {
      "image/png": "[encoded data removed]",
      "text/plain": [
       "<Figure size 432x288 with 1 Axes>"
      ]
     },
     "metadata": {
      "needs_background": "light"
     },
     "output_type": "display_data"
    }
   ],
   "source": [
    "plt.hist(x1,bins=15,edgecolor='black')\n",
    "\n",
    "plt.show()"
   ]
  },
  {
   "cell_type": "code",
   "execution_count": 15,
   "metadata": {},
   "outputs": [
    {
     "data": {
      "text/plain": [
       "-0.7599682430941156"
      ]
     },
     "execution_count": 15,
     "metadata": {},
     "output_type": "execute_result"
    }
   ],
   "source": [
    "#Obtendo quartil 25º\n",
    "np.quantile(x1,q=0.25)"
   ]
  },
  {
   "cell_type": "code",
   "execution_count": 16,
   "metadata": {},
   "outputs": [
    {
     "name": "stdout",
     "output_type": "stream",
     "text": [
      "Quartil 0:  -2.737602795417674\n",
      "Quartil 25:  -0.7599682430941156\n",
      "Quartil 50:  -0.05563442492456143\n",
      "Quartil 75:  0.6632240691385264\n",
      "Quartil 100:  2.6142471022353146\n"
     ]
    }
   ],
   "source": [
    "for i in np.arange(0.0,1.25,0.25):\n",
    "    print(f'Quartil {int(i*100)}:  {np.quantile(x1,q=i)}')"
   ]
  },
  {
   "cell_type": "code",
   "execution_count": 17,
   "metadata": {},
   "outputs": [
    {
     "name": "stdout",
     "output_type": "stream",
     "text": [
      "Percentil 10:  -1.3735220421198455\n",
      "Percentil 20:  -0.869628610321795\n",
      "Percentil 30:  -0.6006826826604038\n",
      "Percentil 40:  -0.31924984900244957\n",
      "Percentil 50:  -0.05563442492456143\n",
      "Percentil 60:  0.2560987396853247\n",
      "Percentil 70:  0.5020612913015485\n",
      "Percentil 80:  0.8472217840217133\n",
      "Percentil 90:  1.2069390381043443\n",
      "Percentil 100:  2.6142471022353146\n"
     ]
    }
   ],
   "source": [
    "#printando o percentis 10º, 20º, 30º, ..., 100º\n",
    "for i in range(10,110,10):\n",
    "    print(f'Percentil {i}:  {np.percentile(x1,q=i)}')"
   ]
  },
  {
   "cell_type": "markdown",
   "metadata": {},
   "source": [
    "### <center> Boxplot </center>"
   ]
  },
  {
   "cell_type": "code",
   "execution_count": 18,
   "metadata": {},
   "outputs": [
    {
     "data": {
      "text/plain": [
       "<matplotlib.axes._subplots.AxesSubplot at 0x7f3af5372350>"
      ]
     },
     "execution_count": 18,
     "metadata": {},
     "output_type": "execute_result"
    },
    {
     "data": {
      "image/png": "[encoded data removed]",
      "text/plain": [
       "<Figure size 864x432 with 4 Axes>"
      ]
     },
     "metadata": {
      "needs_background": "light"
     },
     "output_type": "display_data"
    }
   ],
   "source": [
    "fig, axes = plt.subplots(nrows=2,ncols=2,figsize=(12,6))\n",
    "\n",
    "axes[0][0].hist(x1,bins=15,edgecolor='black')\n",
    "\n",
    "axes[0][1].hist(x4,bins=15,edgecolor='black')\n",
    "\n",
    "sns.boxplot(x1,ax=axes[1][0])\n",
    "\n",
    "sns.boxplot(x4,ax=axes[1][1])"
   ]
  },
  {
   "cell_type": "markdown",
   "metadata": {},
   "source": [
    "## <center> Média Truncada </center>\n",
    "\n",
    "Você pode limitar o valor da média com base em algum valore estatísticos ou não-realistico (para geocientas, médidas que não correspondem a medidas físicas)"
   ]
  },
  {
   "cell_type": "code",
   "execution_count": 19,
   "metadata": {},
   "outputs": [],
   "source": [
    "df = pd.DataFrame(X.T,columns=['x1','x2','x3','x4'])"
   ]
  },
  {
   "cell_type": "code",
   "execution_count": 20,
   "metadata": {},
   "outputs": [
    {
     "data": {
      "text/html": [
       "<div>\n",
       "<style scoped>\n",
       "    .dataframe tbody tr th:only-of-type {\n",
       "        vertical-align: middle;\n",
       "    }\n",
       "\n",
       "    .dataframe tbody tr th {\n",
       "        vertical-align: top;\n",
       "    }\n",
       "\n",
       "    .dataframe thead th {\n",
       "        text-align: right;\n",
       "    }\n",
       "</style>\n",
       "<table border=\"1\" class=\"dataframe\">\n",
       "  <thead>\n",
       "    <tr style=\"text-align: right;\">\n",
       "      <th></th>\n",
       "      <th>x1</th>\n",
       "      <th>x2</th>\n",
       "      <th>x3</th>\n",
       "      <th>x4</th>\n",
       "    </tr>\n",
       "  </thead>\n",
       "  <tbody>\n",
       "    <tr>\n",
       "      <th>0</th>\n",
       "      <td>0.280822</td>\n",
       "      <td>1.454453</td>\n",
       "      <td>-1.335936</td>\n",
       "      <td>2.098876</td>\n",
       "    </tr>\n",
       "    <tr>\n",
       "      <th>1</th>\n",
       "      <td>-0.775254</td>\n",
       "      <td>-0.833883</td>\n",
       "      <td>1.374044</td>\n",
       "      <td>2.561400</td>\n",
       "    </tr>\n",
       "    <tr>\n",
       "      <th>2</th>\n",
       "      <td>1.605982</td>\n",
       "      <td>-2.685450</td>\n",
       "      <td>1.145121</td>\n",
       "      <td>0.671211</td>\n",
       "    </tr>\n",
       "    <tr>\n",
       "      <th>3</th>\n",
       "      <td>2.175178</td>\n",
       "      <td>-0.871550</td>\n",
       "      <td>0.333036</td>\n",
       "      <td>2.187819</td>\n",
       "    </tr>\n",
       "    <tr>\n",
       "      <th>4</th>\n",
       "      <td>-0.113430</td>\n",
       "      <td>2.644746</td>\n",
       "      <td>1.779776</td>\n",
       "      <td>1.727844</td>\n",
       "    </tr>\n",
       "  </tbody>\n",
       "</table>\n",
       "</div>"
      ],
      "text/plain": [
       "         x1        x2        x3        x4\n",
       "0  0.280822  1.454453 -1.335936  2.098876\n",
       "1 -0.775254 -0.833883  1.374044  2.561400\n",
       "2  1.605982 -2.685450  1.145121  0.671211\n",
       "3  2.175178 -0.871550  0.333036  2.187819\n",
       "4 -0.113430  2.644746  1.779776  1.727844"
      ]
     },
     "execution_count": 20,
     "metadata": {},
     "output_type": "execute_result"
    }
   ],
   "source": [
    "df.head()"
   ]
  },
  {
   "cell_type": "code",
   "execution_count": 21,
   "metadata": {},
   "outputs": [
    {
     "data": {
      "text/plain": [
       "-0.029493967853620087"
      ]
     },
     "execution_count": 21,
     "metadata": {},
     "output_type": "execute_result"
    }
   ],
   "source": [
    "df.x1.mean()"
   ]
  },
  {
   "cell_type": "markdown",
   "metadata": {},
   "source": [
    "trucando os valores de x1 entra o 2ºpercentil e o 98ºpercentil"
   ]
  },
  {
   "cell_type": "code",
   "execution_count": 22,
   "metadata": {},
   "outputs": [
    {
     "data": {
      "text/plain": [
       "-0.027595160435819197"
      ]
     },
     "execution_count": 22,
     "metadata": {},
     "output_type": "execute_result"
    }
   ],
   "source": [
    "df.x1[(df.x1 < df.x1.quantile(q=0.98))&\n",
    "      (df.x1 > df.x1.quantile(q=0.02))].mean()"
   ]
  },
  {
   "cell_type": "markdown",
   "metadata": {},
   "source": [
    "## <center> Medidas de Dispersão e Distribuição </center>\n",
    "\n",
    "As medidas definidas em torno da média de um conjunto de valores, são em sua maioria, denominadas uma medida de momento:\n",
    "\n",
    "$$M(\\mathbf{x})=\\frac{\\sum_{i=1}^n (x_i-\\overline{x})^k}{(n-1)}$$\n",
    "\n",
    "onde:\n",
    "\n",
    "k=2 é o segundo momento central, chamado de variância;\n",
    "\n",
    "k=3 é a obliquidade (<i>skweness</i>), ou terceiro momento central; e\n",
    "\n",
    "k= 4 é a curtose (<i>kurtosis</i>), ou quarto momento central.\n"
   ]
  },
  {
   "cell_type": "markdown",
   "metadata": {},
   "source": [
    "---"
   ]
  },
  {
   "cell_type": "markdown",
   "metadata": {},
   "source": [
    "### Variância\n",
    "\n",
    "A variância é a medida mais utilizada para valiar o grau de espalhamento de uma variável $\\mathbf{x}$:\n",
    "\n",
    "$$var = \\frac{1}{n-1}\\sum_{i=1}^n (x_i-\\overline{x})^2$$\n",
    "\n",
    "e sua raiz quadrada é denominada desvio padrão ($\\sigma$):\n",
    "\n",
    "$$\\sigma = \\sqrt{var}$$\n",
    "\n",
    "Vamos utilizar as distribuições x1 e x2, ambas gaussianas, para exemplificar."
   ]
  },
  {
   "cell_type": "code",
   "execution_count": 23,
   "metadata": {},
   "outputs": [
    {
     "name": "stdout",
     "output_type": "stream",
     "text": [
      "\t\t\tx1\t\t\tx2\n",
      "Variância:\t1.0870130521217996\t3.976966350609879\n",
      "Desvio Padrão:\t1.0425991809520088\t1.994233273869905\n"
     ]
    }
   ],
   "source": [
    "print(3*'\\t'+'x1'+ 3*'\\t'+ 'x2')\n",
    "print('Variância:'+'\\t'+f'{df.x1.var()}'+'\\t'+f'{df.x2.var()}')\n",
    "print('Desvio Padrão:'+'\\t'+f'{df.x1.std()}'+'\\t'+f'{df.x2.std()}')"
   ]
  },
  {
   "cell_type": "code",
   "execution_count": 24,
   "metadata": {},
   "outputs": [
    {
     "name": "stderr",
     "output_type": "stream",
     "text": [
      "/home/alexsandro/anaconda3/lib/python3.7/site-packages/ipykernel_launcher.py:20: UserWarning: Matplotlib is currently using module://ipykernel.pylab.backend_inline, which is a non-GUI backend, so cannot show the figure.\n"
     ]
    },
    {
     "data": {
      "image/png": "[encoded data removed]",
      "text/plain": [
       "<Figure size 864x288 with 2 Axes>"
      ]
     },
     "metadata": {
      "needs_background": "light"
     },
     "output_type": "display_data"
    }
   ],
   "source": [
    "fig, axes = plt.subplots(ncols=2,figsize=(12,4))\n",
    "\n",
    "for ax in axes:\n",
    "    ax.set_xlim(-6,6)\n",
    "    ax.set_ylim(0,100)\n",
    "\n",
    "axes[0].hist(x1,bins=20,edgecolor='black',range=(-6,6),\n",
    "             label=f'var = {df.x1.var()} \\n $\\sigma$ ={df.x1.std()}')\n",
    "axes[0].set_xlabel('$x_1$',fontsize=16)\n",
    "axes[0].legend()\n",
    "\n",
    "axes[1].hist(x2,bins=20,edgecolor='black',range=(-6,6),\n",
    "             label=f'var = {df.x2.var()} \\n $\\sigma$ ={df.x2.std()}')\n",
    "axes[1].set_xlabel('$x_2$',fontsize=16)\n",
    "axes[1].legend()\n",
    "\n",
    "fig.tight_layout()\n",
    "\n",
    "fig.savefig('variancia.png',dpi=200)\n",
    "fig.show()\n",
    "\n"
   ]
  },
  {
   "cell_type": "code",
   "execution_count": 25,
   "metadata": {},
   "outputs": [],
   "source": [
    "from scipy.stats import skew,kurtosis"
   ]
  },
  {
   "cell_type": "markdown",
   "metadata": {},
   "source": [
    "### Obliquidade\n",
    "\n",
    "A obliquidade, ou <i>skweness</i> em inglês, mede a simetria da distribuição dos dados em torno da média e é dada pelo terceiro momendo (quando $k=3$). Para tornar a medida independente de escala, é comum dividi-la pelo desvio padrão:\n",
    "\n",
    "$$M(\\mathbf{x}) = \\frac{1}{n-1}\\sum_{i=1}^n \\frac{(x_i - \\overline{x})^3}{\\sigma^3}$$"
   ]
  },
  {
   "cell_type": "code",
   "execution_count": 26,
   "metadata": {},
   "outputs": [],
   "source": [
    "#Criando uma distribuição assimétrica a direita\n",
    "df['x5'] = (np.random.lognormal(mean=-2,sigma=0.7,size=250)*-1)+1"
   ]
  },
  {
   "cell_type": "markdown",
   "metadata": {},
   "source": [
    "Para exemplificar, iremos utilizar as distribuições x1,x4 e x5"
   ]
  },
  {
   "cell_type": "code",
   "execution_count": 27,
   "metadata": {},
   "outputs": [
    {
     "name": "stdout",
     "output_type": "stream",
     "text": [
      "\t\t\tObliquidade\n",
      "x1 0.032819551316733905\n",
      "x2 -0.03953581207677947\n",
      "x3 0.03302135024718064\n",
      "x4 4.851474793161857\n",
      "x5 -2.5023074357734894\n"
     ]
    }
   ],
   "source": [
    "print(3*'\\t'+'Obliquidade')\n",
    "for i,j in zip(df.columns,skew(df)):\n",
    "    print(i,j)"
   ]
  },
  {
   "cell_type": "code",
   "execution_count": 28,
   "metadata": {},
   "outputs": [
    {
     "name": "stderr",
     "output_type": "stream",
     "text": [
      "/home/alexsandro/anaconda3/lib/python3.7/site-packages/ipykernel_launcher.py:22: UserWarning: Matplotlib is currently using module://ipykernel.pylab.backend_inline, which is a non-GUI backend, so cannot show the figure.\n"
     ]
    },
    {
     "data": {
      "image/png": "[encoded data removed]",
      "text/plain": [
       "<Figure size 1152x504 with 3 Axes>"
      ]
     },
     "metadata": {
      "needs_background": "light"
     },
     "output_type": "display_data"
    }
   ],
   "source": [
    "fig,axes = plt.subplots(ncols=3,figsize=(16,7))\n",
    "\n",
    "axes[0].hist(x1,bins=20,edgecolor='black',\n",
    "             label=f'$M_3(x_1)=${skew(df.x1):f}')\n",
    "axes[0].set_xlabel('$x_1$',fontsize=16)\n",
    "\n",
    "axes[1].hist(x4,bins=20,edgecolor='black',\n",
    "             label=f'$M_3(x_4)=${skew(df.x4):f}')\n",
    "axes[1].set_xlabel('$x_4$',fontsize=16)\n",
    "\n",
    "axes[2].hist(df.x5,bins=20,edgecolor='black',\n",
    "             label=f'$M_3(x_5)=${skew(df.x5):f}')\n",
    "axes[2].set_xlabel('$x_5$',fontsize=16)\n",
    "\n",
    "for ax in axes:\n",
    "    ax.legend(fontsize=16)\n",
    "\n",
    "fig.tight_layout()\n",
    "\n",
    "fig.savefig('obliquidade.png',dpi=250)\n",
    "\n",
    "fig.show()"
   ]
  },
  {
   "cell_type": "markdown",
   "metadata": {},
   "source": [
    "### Curtose\n",
    "\n",
    "A curtose, ou <i>kurtosis</i> em inglês, mede a simetria da distribuição dos dados em torno da média e é dada pelo quarto momento (quando $k=4$). ela verifica se a distribuição apresenta um pico, ou se a distribuição está \"achatada\":\n",
    "\n",
    "$$M(\\mathbf{x}) = \\frac{1}{n-1}\\sum_{i=1}^n \\frac{(x_i - \\overline{x})^4}{\\sigma^4}$$\n",
    "\n",
    "Para exemplificar, iremos utilizar as distribuições x1,x2 e x3"
   ]
  },
  {
   "cell_type": "code",
   "execution_count": 29,
   "metadata": {},
   "outputs": [
    {
     "name": "stdout",
     "output_type": "stream",
     "text": [
      "\t\t\tCurtose\n",
      "x1 -0.18909514315753828\n",
      "x2 -0.01999214447779485\n",
      "x3 -1.1415510758898313\n"
     ]
    }
   ],
   "source": [
    "print(3*'\\t'+'Curtose')\n",
    "for i,j in zip(df.columns[:3],kurtosis(df[df.columns[:3]])):\n",
    "    print(i,j)"
   ]
  },
  {
   "cell_type": "code",
   "execution_count": 30,
   "metadata": {},
   "outputs": [
    {
     "name": "stderr",
     "output_type": "stream",
     "text": [
      "/home/alexsandro/anaconda3/lib/python3.7/site-packages/ipykernel_launcher.py:25: UserWarning: Matplotlib is currently using module://ipykernel.pylab.backend_inline, which is a non-GUI backend, so cannot show the figure.\n"
     ]
    },
    {
     "data": {
      "image/png": "[encoded data removed]",
      "text/plain": [
       "<Figure size 1152x504 with 3 Axes>"
      ]
     },
     "metadata": {
      "needs_background": "light"
     },
     "output_type": "display_data"
    }
   ],
   "source": [
    "fig, axes = plt.subplots(ncols=3,figsize=(16,7))\n",
    "\n",
    "for ax in axes:\n",
    "    ax.set_xlim(-6,6)\n",
    "    ax.set_ylim(0,70)\n",
    "\n",
    "axes[0].hist(x1,bins=20,edgecolor='black',range=(-6,6),\n",
    "             label=f'Curtose = {kurtosis(df.x1):f}')\n",
    "axes[0].set_xlabel('$x_1$',fontsize=16)\n",
    "\n",
    "axes[1].hist(x2,bins=20,edgecolor='black',range=(-6,6),\n",
    "             label=f'Curtose = {df.x2.kurtosis():f}')\n",
    "axes[1].set_xlabel('$x_2$',fontsize=16)\n",
    "\n",
    "axes[2].hist(x3,bins=20,edgecolor='black',range=(-6,6),\n",
    "             label=f'Curtose = {df.x3.kurtosis():f}')\n",
    "axes[2].set_xlabel('$x_3$',fontsize=16)\n",
    "\n",
    "for ax in axes:\n",
    "    ax.legend(fontsize=16)\n",
    "\n",
    "fig.tight_layout()\n",
    "\n",
    "fig.savefig('curtose.png',dpi=250)\n",
    "fig.show()\n"
   ]
  }
 ],
 "metadata": {
  "kernelspec": {
   "display_name": "Python 3",
   "language": "python",
   "name": "python3"
  },
  "language_info": {
   "codemirror_mode": {
    "name": "ipython",
    "version": 3
   },
   "file_extension": ".py",
   "mimetype": "text/x-python",
   "name": "python",
   "nbconvert_exporter": "python",
   "pygments_lexer": "ipython3",
   "version": "3.7.6"
  }
 },
 "nbformat": 4,
 "nbformat_minor": 4
}
